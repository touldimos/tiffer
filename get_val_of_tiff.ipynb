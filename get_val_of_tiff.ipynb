{
 "cells": [
  {
   "cell_type": "code",
   "execution_count": 2,
   "id": "104ca7d8",
   "metadata": {},
   "outputs": [
    {
     "data": {
      "text/html": [
       "<div>\n",
       "<style scoped>\n",
       "    .dataframe tbody tr th:only-of-type {\n",
       "        vertical-align: middle;\n",
       "    }\n",
       "\n",
       "    .dataframe tbody tr th {\n",
       "        vertical-align: top;\n",
       "    }\n",
       "\n",
       "    .dataframe thead th {\n",
       "        text-align: right;\n",
       "    }\n",
       "</style>\n",
       "<table border=\"1\" class=\"dataframe\">\n",
       "  <thead>\n",
       "    <tr style=\"text-align: right;\">\n",
       "      <th></th>\n",
       "      <th>Latitude</th>\n",
       "      <th>Longitude</th>\n",
       "      <th>SM</th>\n",
       "    </tr>\n",
       "    <tr>\n",
       "      <th>Time</th>\n",
       "      <th></th>\n",
       "      <th></th>\n",
       "      <th></th>\n",
       "    </tr>\n",
       "  </thead>\n",
       "  <tbody>\n",
       "    <tr>\n",
       "      <th>2015-01-04</th>\n",
       "      <td>22.7166</td>\n",
       "      <td>39.755337</td>\n",
       "      <td>41</td>\n",
       "    </tr>\n",
       "  </tbody>\n",
       "</table>\n",
       "</div>"
      ],
      "text/plain": [
       "           Latitude  Longitude  SM\n",
       "Time                              \n",
       "2015-01-04  22.7166  39.755337  41"
      ]
     },
     "execution_count": 2,
     "metadata": {},
     "output_type": "execute_result"
    }
   ],
   "source": [
    "import rasterio\n",
    "import os\n",
    "import numpy as np\n",
    "import pandas as pd\n",
    "\n",
    "fp = \"c_gls_SSM1km_QL_201501040000_CEURO_S1CSAR_V1.1.1.tiff\"\n",
    "lon = 22.7166\n",
    "lat = 39.755337\n",
    "\n",
    "def getVal(fp, lon, lat, precision=1E-6):\n",
    "    try:\n",
    "        time = pd.to_datetime(fp[16:28])\n",
    "        dat = rasterio.open(fp)\n",
    "        z = dat.read()[0]\n",
    "        idx = dat.index(lon, lat, precision=1E-6)    \n",
    "        latitude, longitute = dat.xy(*idx)\n",
    "        value = z[idx]\n",
    "        dat.close()\n",
    "        out = pd.DataFrame([time, lon, lat, value]).T\n",
    "        out.columns = ['Time', 'Latitude', 'Longitude', 'SM']\n",
    "        out.set_index('Time', inplace=True)\n",
    "    except:\n",
    "        out = pd.DataFrame([np.nan, np.nan, np.nan, np.nan]).T\n",
    "        out.columns = ['Time', 'Latitude', 'Longitude', 'SM']\n",
    "        out.set_index('Time', inplace=True)\n",
    "    return out\n",
    "\n",
    "getVal(fp, lon, lat, precision=1E-6)"
   ]
  },
  {
   "cell_type": "code",
   "execution_count": null,
   "id": "0f34ad8b",
   "metadata": {},
   "outputs": [],
   "source": []
  }
 ],
 "metadata": {
  "kernelspec": {
   "display_name": "Python 3 (ipykernel)",
   "language": "python",
   "name": "python3"
  },
  "language_info": {
   "codemirror_mode": {
    "name": "ipython",
    "version": 3
   },
   "file_extension": ".py",
   "mimetype": "text/x-python",
   "name": "python",
   "nbconvert_exporter": "python",
   "pygments_lexer": "ipython3",
   "version": "3.9.12"
  }
 },
 "nbformat": 4,
 "nbformat_minor": 5
}
